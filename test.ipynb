{
 "cells": [
  {
   "metadata": {
    "collapsed": true
   },
   "cell_type": "code",
   "source": [
    "import numpy as np\n",
    "import pandas as pd\n",
    "from tensorflow.keras.models import load_model\n",
    "from PIL import Image\n",
    "import matplotlib.pyplot as plt\n",
    "import os\n",
    "from IPython.display import clear_output  # Import to clear output between iterations"
   ],
   "id": "initial_id",
   "outputs": [],
   "execution_count": null
  },
  {
   "metadata": {},
   "cell_type": "code",
   "source": [
    "# Load the saved model\n",
    "model = load_model('traffic_classifier.h5')"
   ],
   "id": "ef4041f82338960f",
   "outputs": [],
   "execution_count": null
  },
  {
   "metadata": {},
   "cell_type": "code",
   "source": [
    "# Path and data file for test images\n",
    "cur_path = os.getcwd()\n",
    "data_folder = 'data'\n",
    "test_csv_path = os.path.join(data_folder, 'Test.csv')"
   ],
   "id": "3f6c51a9188a5157",
   "outputs": [],
   "execution_count": null
  },
  {
   "metadata": {},
   "cell_type": "code",
   "source": [
    "# Load the test labels and image paths\n",
    "y_test = pd.read_csv(test_csv_path)\n",
    "labels = y_test[\"ClassId\"].values\n",
    "imgs = y_test[\"Path\"].values"
   ],
   "id": "c0e29f92cebe96e",
   "outputs": [],
   "execution_count": null
  },
  {
   "metadata": {},
   "cell_type": "code",
   "source": [
    "# Path to the test images\n",
    "path = os.path.join(cur_path, data_folder)"
   ],
   "id": "a0f277cfcaed8323",
   "outputs": [],
   "execution_count": null
  },
  {
   "metadata": {},
   "cell_type": "code",
   "source": [
    "# Define the function to display predictions with images\n",
    "for i, img_path in enumerate(imgs):\n",
    "    # Load and preprocess the image\n",
    "    image = Image.open(os.path.join(path, img_path))\n",
    "    image = image.resize((30, 30))\n",
    "    image_array = np.array(image).reshape(1, 30, 30, 3) / 255.0  # Normalize\n",
    "\n",
    "    # Get model predictions\n",
    "    prediction = model.predict(image_array)\n",
    "    predicted_class = np.argmax(prediction)  # Class with highest probability\n",
    "    predicted_probabilities = prediction[0]  # Probabilities for all classes\n",
    "\n",
    "    # Display the image\n",
    "    plt.imshow(image)\n",
    "    plt.axis('off')\n",
    "    plt.title(f\"True Label: {labels[i]}, Predicted: {predicted_class}\")\n",
    "    plt.show()\n",
    "\n",
    "    # Print predicted probabilities\n",
    "    print(f\"Predicted Probabilities:\\n{predicted_probabilities}\\n\")\n",
    "    clear_output(wait=True)\n",
    "\n"
   ],
   "id": "8d5fbb239988e9a6",
   "outputs": [],
   "execution_count": null
  }
 ],
 "metadata": {
  "kernelspec": {
   "display_name": "Python 3",
   "language": "python",
   "name": "python3"
  },
  "language_info": {
   "codemirror_mode": {
    "name": "ipython",
    "version": 2
   },
   "file_extension": ".py",
   "mimetype": "text/x-python",
   "name": "python",
   "nbconvert_exporter": "python",
   "pygments_lexer": "ipython2",
   "version": "2.7.6"
  }
 },
 "nbformat": 4,
 "nbformat_minor": 5
}
